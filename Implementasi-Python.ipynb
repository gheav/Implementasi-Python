{
 "cells": [
  {
   "cell_type": "code",
   "execution_count": 4,
   "metadata": {},
   "outputs": [
    {
     "name": "stdout",
     "output_type": "stream",
     "text": [
      "Nodes:  265214\n",
      "Edges:  420045\n",
      "Average degree:  1.5837964813320564\n",
      "SCC:  231000\n",
      "WCC:  15836\n"
     ]
    }
   ],
   "source": [
    "import networkx as nx\n",
    "dat_mail = nx.read_edgelist('Email-EuAll.txt',\n",
    "                            create_using=nx.DiGraph(), nodetype=int)\n",
    "N, K = dat_mail.order(), dat_mail.size()\n",
    "avg_deg = float(K) / N\n",
    "print (\"Nodes: \", N)\n",
    "print (\"Edges: \", K)\n",
    "print (\"Average degree: \", avg_deg)\n",
    "print (\"SCC: \", nx.number_strongly_connected_components(dat_mail))\n",
    "print (\"WCC: \", nx.number_weakly_connected_components(dat_mail))"
   ]
  },
  {
   "cell_type": "code",
   "execution_count": null,
   "metadata": {},
   "outputs": [],
   "source": []
  }
 ],
 "metadata": {
  "kernelspec": {
   "display_name": "Python 3",
   "language": "python",
   "name": "python3"
  },
  "language_info": {
   "codemirror_mode": {
    "name": "ipython",
    "version": 3
   },
   "file_extension": ".py",
   "mimetype": "text/x-python",
   "name": "python",
   "nbconvert_exporter": "python",
   "pygments_lexer": "ipython3",
   "version": "3.6.5"
  }
 },
 "nbformat": 4,
 "nbformat_minor": 2
}
